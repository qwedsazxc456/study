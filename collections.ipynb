{
 "cells": [
  {
   "cell_type": "code",
   "execution_count": 10,
   "metadata": {},
   "outputs": [
    {
     "name": "stdout",
     "output_type": "stream",
     "text": [
      "l 500\n",
      "x 100\n",
      "y 200\n",
      "z 300\n",
      "x 100\n",
      "y 200\n",
      "z 300\n",
      "l 500\n",
      "0\n",
      "dict_keys(['a', 'b', 'c', 'd'])\n"
     ]
    }
   ],
   "source": [
    "# deque\n",
    "# rotation , reverse\n",
    "\n",
    "# OrderedDict\n",
    "# 데이터를 입력한 순서대로 dict 반환\n",
    "# Dict type의 값을 value,key 값으로 정렬할 때 사용 가능\n",
    "from collections import OrderedDict\n",
    "d=OrderedDict()\n",
    "d['x']=100\n",
    "d['y']=200\n",
    "d['z']=300\n",
    "d['l']=500\n",
    "for k,v in OrderedDict(sorted(d.items(), key=lambda t:t[0])).items():\n",
    "    print(k,v)\n",
    "    \n",
    "for k,v in OrderedDict(sorted(d.items(), key=lambda t:t[1])).items():\n",
    "    print(k,v)\n",
    "    \n",
    "# defaultdict\n",
    "# Dict type의 값에 기본 값을 지정, 신규값 생성시 사용\n",
    "from collections import defaultdict\n",
    "d=defaultdict(object)\n",
    "d=defaultdict(lambda:0)\n",
    "# d=defaultdict(int) 로 하면 지정하지 않은 값 0으로\n",
    "print(d['first'])\n",
    "\n",
    "# Counter\n",
    "# sequence type의 data element들의 갯수를 dict 형태로 반환\n",
    "from collections import Counter\n",
    "c=Counter('aaabbbcccccccdddd')\n",
    "print(c)\n",
    "\n"
   ]
  }
 ],
 "metadata": {
  "kernelspec": {
   "display_name": "Python 3.9.7 ('base')",
   "language": "python",
   "name": "python3"
  },
  "language_info": {
   "codemirror_mode": {
    "name": "ipython",
    "version": 3
   },
   "file_extension": ".py",
   "mimetype": "text/x-python",
   "name": "python",
   "nbconvert_exporter": "python",
   "pygments_lexer": "ipython3",
   "version": "3.9.7"
  },
  "orig_nbformat": 4,
  "vscode": {
   "interpreter": {
    "hash": "5179d32cf6ec497baf3f8a3ef987cc77c5d2dc691fdde20a56316522f61a7323"
   }
  }
 },
 "nbformat": 4,
 "nbformat_minor": 2
}
