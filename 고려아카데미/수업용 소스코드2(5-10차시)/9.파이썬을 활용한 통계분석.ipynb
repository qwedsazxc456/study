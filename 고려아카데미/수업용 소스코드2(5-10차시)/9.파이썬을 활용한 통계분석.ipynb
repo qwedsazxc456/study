{
 "cells": [
  {
   "cell_type": "code",
   "execution_count": 1,
   "metadata": {},
   "outputs": [
    {
     "name": "stdout",
     "output_type": "stream",
     "text": [
      "Counter({3800: 3, 9700: 2, 4300: 2, 4200: 2, 3200: 2, 9500: 1, 9900: 1, 4500: 1, 5500: 1})\n"
     ]
    },
    {
     "data": {
      "text/plain": [
       "2"
      ]
     },
     "execution_count": 1,
     "metadata": {},
     "output_type": "execute_result"
    }
   ],
   "source": [
    "# 빈도 분석하기\n",
    "import collections\n",
    "\n",
    "sal_all=[9700,9500,9900,3800,4300,4300,3800,4200,4500,3200,5500,3200,3800,4200,9700]\n",
    "sal_count = collections.Counter(sal_all)\n",
    "print(sal_count)\n",
    "sal_count[3800]\n",
    "sal_count[3200]"
   ]
  },
  {
   "cell_type": "code",
   "execution_count": 52,
   "metadata": {},
   "outputs": [
    {
     "name": "stdout",
     "output_type": "stream",
     "text": [
      "최대연봉: 9900\n",
      "최소연봉: 3200\n",
      "전체 건수: 15\n"
     ]
    }
   ],
   "source": [
    "# 최대 / 최소연봉 구하기\n",
    "print('최대연봉:', max(sal_all))\n",
    "\n",
    "print('최소연봉:', min(sal_all))\n",
    "\n",
    "print('전체 건수:', len(sal_all))"
   ]
  },
  {
   "cell_type": "code",
   "execution_count": 53,
   "metadata": {},
   "outputs": [
    {
     "name": "stdout",
     "output_type": "stream",
     "text": [
      "[3200, 3200, 3800, 3800, 3800, 4200, 4200, 4300, 4300, 4500, 5500, 9500, 9700, 9700, 9900]\n",
      "첫번째 값: 3200\n",
      "마지막 값: 9900\n",
      "[9900, 9700, 9700, 9500, 5500, 4500, 4300, 4300, 4200, 4200, 3800, 3800, 3800, 3200, 3200]\n"
     ]
    }
   ],
   "source": [
    "# 전체 값을 정렬하기\n",
    "sal_sort = sorted(sal_all)\n",
    "print(sal_sort)\n",
    "\n",
    "print('첫번째 값:', sal_sort[0])\n",
    "print('마지막 값:', sal_sort[-1])\n",
    "\n",
    "# 역정렬하기\n",
    "sal_sort_rev = sorted(sal_all ,  reverse=True)\n",
    "print(sal_sort_rev)"
   ]
  },
  {
   "cell_type": "code",
   "execution_count": 54,
   "metadata": {},
   "outputs": [
    {
     "name": "stdout",
     "output_type": "stream",
     "text": [
      "평균값: 5573.333333333333\n",
      "numpy 평균값: 5573.333333333333\n"
     ]
    }
   ],
   "source": [
    "# 평균값 / 중앙값 계산하기\n",
    "mean_sal = sum(sal_all) / len(sal_all)\n",
    "print('평균값:' , mean_sal)\n",
    "\n",
    "#numpy 모듈 사용하기\n",
    "import numpy as np\n",
    "print('numpy 평균값:', np.mean(sal_all) )"
   ]
  },
  {
   "cell_type": "code",
   "execution_count": 55,
   "metadata": {},
   "outputs": [
    {
     "name": "stdout",
     "output_type": "stream",
     "text": [
      "전체 개수: 15\n",
      "가운데 값의 자리번호: 7\n",
      "중앙값: 4300\n",
      "numpy median: 4300.0\n"
     ]
    }
   ],
   "source": [
    "sal_all_2=[9700,9500,9900,3800,4300,4300,3800,4200,4500,3200,5500,3200,3800,4200,9700]\n",
    "print('전체 개수:',len(sal_all_2))\n",
    "\n",
    "sal_sort_2 = sorted(sal_all_2)\n",
    "\n",
    "print('가운데 값의 자리번호:' ,len(sal_all_2) // 2)\n",
    "print('중앙값:' , sal_sort_2[7])\n",
    "\n",
    "#numpy 로 중앙값 찾기\n",
    "print('numpy median:', np.median(sal_all_2))"
   ]
  },
  {
   "cell_type": "code",
   "execution_count": 56,
   "metadata": {},
   "outputs": [
    {
     "name": "stdout",
     "output_type": "stream",
     "text": [
      "홍길동 제외한 전체 개수: 14\n",
      "홍길동을 제외한 평균: 5743 1\n",
      "가운데 값의 자리: 7\n",
      "중앙값의 왼쪽값 위치 번호: 6\n",
      "중앙값의 위치번호: 7\n",
      "중앙값: 4300.0\n",
      "numpy 중앙값: 4300.0\n"
     ]
    }
   ],
   "source": [
    "# 전체 건수가 짝수 일 경우 중앙값 찾기\n",
    "sal_all_3=[9700,9500,9900,3800,4300,4300,3800,4200,4500,5500,3200,3800,4200,9700]\n",
    "print('홍길동 제외한 전체 개수:',len(sal_all_3))\n",
    "\n",
    "mean_sal_3 = sum(sal_all_3) / len(sal_all_3)\n",
    "print('홍길동을 제외한 평균:',round(mean_sal_3),1)\n",
    "\n",
    "print('가운데 값의 자리:', len(sal_all_3) // 2) \n",
    "sal_sort_3 = sorted(sal_all_3)\n",
    "left_value = ( len(sal_all_3) // 2) -1\n",
    "mid_value = len(sal_all_3) // 2\n",
    "\n",
    "print('중앙값의 왼쪽값 위치 번호:',left_value)\n",
    "print('중앙값의 위치번호:', mid_value)\n",
    "\n",
    "mid_value_2 = (sal_sort_3[left_value] + sal_sort_3[mid_value]) / 2\n",
    "print('중앙값:' , mid_value_2)\n",
    "\n",
    "sal_sort_3[mid_value]\n",
    "\n",
    "# numpy 를 이용한 중앙값 찾기\n",
    "print('numpy 중앙값:',np.median(sal_all_3) )"
   ]
  },
  {
   "cell_type": "code",
   "execution_count": 57,
   "metadata": {},
   "outputs": [
    {
     "name": "stdout",
     "output_type": "stream",
     "text": [
      "[9700, 9500, 9900, 3800, 4300, 4300, 3800, 4200, 4500, 3200, 5500, 3200, 3800, 4200, 9700]\n",
      "분산값: 6471288.9\n",
      "표준편차값: 2543.9\n"
     ]
    }
   ],
   "source": [
    "# 분산과 표준편차\n",
    "\n",
    "print(sal_all_2)\n",
    "print('분산값:' , round(np.var(sal_all_2),1 ) )\n",
    "\n",
    "print('표준편차값:' , round( np.std(sal_all_2),1))"
   ]
  },
  {
   "cell_type": "code",
   "execution_count": 58,
   "metadata": {},
   "outputs": [
    {
     "name": "stdout",
     "output_type": "stream",
     "text": [
      "          0         1\n",
      "0  1.000000  0.997054\n",
      "1  0.997054  1.000000\n"
     ]
    }
   ],
   "source": [
    "# 상관 관계 분석하기\n",
    "import pandas as pd\n",
    "\n",
    "lst = [[1,2,3,4,5],\n",
    "        [3,5,8,11,13]]\n",
    "\n",
    "df = pd.DataFrame(lst).T\n",
    "corr = df.corr(method = 'pearson')\n",
    "print(corr)"
   ]
  },
  {
   "cell_type": "code",
   "execution_count": 9,
   "metadata": {},
   "outputs": [
    {
     "name": "stdout",
     "output_type": "stream",
     "text": [
      "slope: 0.94 / intercept: -4.199999999999989 / 상관계수: 0.8660744134561783 / P-Value: 0.057637687745097074 / 에러의 표준편차: 0.3132624033192196\n",
      "예상IQ: 105.78\n"
     ]
    },
    {
     "data": {
      "image/png": "[encoded data removed]",
      "text/plain": [
       "<Figure size 432x288 with 1 Axes>"
      ]
     },
     "metadata": {
      "needs_background": "light"
     },
     "output_type": "display_data"
    }
   ],
   "source": [
    "# 선형회귀 분석\n",
    "from scipy import stats, polyval\n",
    "from pylab import plot, title, show, legend\n",
    "x= [110,120,130,140,150]\n",
    "y =[100,105,128,115,142]\n",
    "\n",
    "slope, intercept, r, p, std = stats.linregress(x,y)\n",
    "ry = polyval([slope, intercept], x)\n",
    "\n",
    "print('slope:',slope,'/', 'intercept:',intercept, '/','상관계수:',r, '/','P-Value:',p,'/', '에러의 표준편차:',std)\n",
    "\n",
    "print('예상IQ:',117*slope + intercept) \n",
    "\n",
    "plot(x,y, 'k.')\n",
    "plot(x,ry, 'r.-')\n",
    "title('regression')\n",
    "\n",
    "legend(['original', 'regression'])\n",
    "\n",
    "show()\n"
   ]
  },
  {
   "cell_type": "code",
   "execution_count": null,
   "metadata": {},
   "outputs": [],
   "source": []
  }
 ],
 "metadata": {
  "kernelspec": {
   "display_name": "Python 3",
   "language": "python",
   "name": "python3"
  },
  "language_info": {
   "codemirror_mode": {
    "name": "ipython",
    "version": 3
   },
   "file_extension": ".py",
   "mimetype": "text/x-python",
   "name": "python",
   "nbconvert_exporter": "python",
   "pygments_lexer": "ipython3",
   "version": "3.8.8"
  }
 },
 "nbformat": 4,
 "nbformat_minor": 2
}
