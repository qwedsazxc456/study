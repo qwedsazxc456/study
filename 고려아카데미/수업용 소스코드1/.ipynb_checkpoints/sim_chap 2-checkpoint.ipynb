{
 "cells": [
  {
   "cell_type": "code",
   "execution_count": null,
   "metadata": {},
   "outputs": [],
   "source": [
    "# 시뮬레이션 퀴즈 - 1\n",
    "\n",
    "# Series 유형으로 아래와 같은 형태의데이터를 생성할 때 \n",
    "# 적절한 명령어를 입력하세요.\n",
    "\n",
    "# 예시 데이터\n",
    "\n",
    "#   배       1500\n",
    "#   복숭아     800\n",
    "#   사과     1200\n",
    "\n",
    "\n",
    "# 문제 코드\n",
    "import pandas as pd\n",
    "\n",
    "fruits = # 여기에 입력 받는 창 만들어 주세요.\n",
    "\n"
   ]
  },
  {
   "cell_type": "code",
   "execution_count": 4,
   "metadata": {
    "collapsed": true
   },
   "outputs": [
    {
     "data": {
      "text/plain": [
       "배      1500\n",
       "복숭아     800\n",
       "사과     1200\n",
       "dtype: int64"
      ]
     },
     "execution_count": 4,
     "metadata": {},
     "output_type": "execute_result"
    }
   ],
   "source": [
    "fruits = pd.Series( { '사과': 1200 , '배':1500 , '복숭아': 800} )\n",
    "\n",
    "fruits"
   ]
  },
  {
   "cell_type": "code",
   "execution_count": 10,
   "metadata": {},
   "outputs": [
    {
     "data": {
      "text/html": [
       "<div>\n",
       "<style scoped>\n",
       "    .dataframe tbody tr th:only-of-type {\n",
       "        vertical-align: middle;\n",
       "    }\n",
       "\n",
       "    .dataframe tbody tr th {\n",
       "        vertical-align: top;\n",
       "    }\n",
       "\n",
       "    .dataframe thead th {\n",
       "        text-align: right;\n",
       "    }\n",
       "</style>\n",
       "<table border=\"1\" class=\"dataframe\">\n",
       "  <thead>\n",
       "    <tr style=\"text-align: right;\">\n",
       "      <th></th>\n",
       "      <th>이름</th>\n",
       "      <th>수량</th>\n",
       "      <th>판매금액</th>\n",
       "    </tr>\n",
       "  </thead>\n",
       "  <tbody>\n",
       "    <tr>\n",
       "      <th>0</th>\n",
       "      <td>허니버터칩</td>\n",
       "      <td>1</td>\n",
       "      <td>800</td>\n",
       "    </tr>\n",
       "    <tr>\n",
       "      <th>1</th>\n",
       "      <td>감자깡</td>\n",
       "      <td>2</td>\n",
       "      <td>2400</td>\n",
       "    </tr>\n",
       "    <tr>\n",
       "      <th>2</th>\n",
       "      <td>새우깡</td>\n",
       "      <td>1</td>\n",
       "      <td>1100</td>\n",
       "    </tr>\n",
       "  </tbody>\n",
       "</table>\n",
       "</div>"
      ],
      "text/plain": [
       "      이름  수량  판매금액\n",
       "0  허니버터칩   1   800\n",
       "1    감자깡   2  2400\n",
       "2    새우깡   1  1100"
      ]
     },
     "execution_count": 10,
     "metadata": {},
     "output_type": "execute_result"
    }
   ],
   "source": [
    "# 시뮬레이션 퀴즈 - 2\n",
    "# Data Frame 유형으로 데이터 생성하기\n",
    "# 아래의 주어진 예시대로 데이터를 생성할 때 적당한 코드를 입력하세요.\n",
    "\n",
    "# 예시 데이터\n",
    "# 이름          수량     판매금액\n",
    "# 허니버터칩    1          800\n",
    "# 감자깡        2         2400\n",
    "# 새우깡        1         1100\n",
    "\n",
    "fa = {  '이름' : ['허니버터칩','감자깡','새우깡'] ,\n",
    "        '수량' : [1,2,1 ],\n",
    "        '판매금액' : [800,2400,1100] }        \n",
    "\n",
    "#fb = # 이곳에 입력받는 창 만들어 주세요.\n",
    "\n",
    "#정답 코드\n",
    "\n",
    "fb = pd.DataFrame(fa , columns=['이름','수량','판매금액'])\n",
    "fb\n"
   ]
  },
  {
   "cell_type": "code",
   "execution_count": null,
   "metadata": {},
   "outputs": [],
   "source": []
  }
 ],
 "metadata": {
  "kernelspec": {
   "display_name": "Python 3",
   "language": "python",
   "name": "python3"
  },
  "language_info": {
   "codemirror_mode": {
    "name": "ipython",
    "version": 3
   },
   "file_extension": ".py",
   "mimetype": "text/x-python",
   "name": "python",
   "nbconvert_exporter": "python",
   "pygments_lexer": "ipython3",
   "version": "3.8.8"
  }
 },
 "nbformat": 4,
 "nbformat_minor": 2
}
