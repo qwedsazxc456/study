{
 "cells": [
  {
   "cell_type": "code",
   "execution_count": 10,
   "metadata": {},
   "outputs": [
    {
     "name": "stdout",
     "output_type": "stream",
     "text": [
      "Counter({380: 3, 320: 2, 420: 2, 430: 2, 970: 2, 450: 1, 950: 1, 550: 1, 990: 1})\n"
     ]
    },
    {
     "data": {
      "text/plain": [
       "0"
      ]
     },
     "execution_count": 10,
     "metadata": {},
     "output_type": "execute_result"
    }
   ],
   "source": [
    "#sim_chap_9 : 통계분석\n",
    "\n",
    "# 빈도 분석하기\n",
    "import collections\n",
    "\n",
    "sal_all=[970,950,990,380,430,430,380,420,450,320,550,320,380,420,970]\n",
    "\n",
    "# 퀴즈 1 : 위 데이터에서 각 값별로 출현 빈도를 구하는 코드를 아래의 (    )에 완성하세요\n",
    "sal_count = (                                 )(sal_all)\n",
    "\n",
    "# 위 코드의 정답\n",
    "sal_count = collections.Counter(sal_all)\n",
    "\n",
    "print(sal_count)\n",
    "sal_count[3800]\n",
    "sal_count[3200]\n",
    "\n"
   ]
  },
  {
   "cell_type": "code",
   "execution_count": 11,
   "metadata": {},
   "outputs": [
    {
     "name": "stdout",
     "output_type": "stream",
     "text": [
      "최대연봉: 990\n",
      "최소연봉: 320\n",
      "전체 건수: 15\n"
     ]
    }
   ],
   "source": [
    "# 최대 / 최소연봉 구하기\n",
    "print('최대연봉:', max(sal_all))\n",
    "\n",
    "print('최소연봉:', min(sal_all))\n",
    "\n",
    "print('전체 건수:', len(sal_all))"
   ]
  },
  {
   "cell_type": "code",
   "execution_count": 3,
   "metadata": {},
   "outputs": [
    {
     "name": "stdout",
     "output_type": "stream",
     "text": [
      "[3200, 3200, 3800, 3800, 3800, 4200, 4200, 4300, 4300, 4500, 5500, 9500, 9700, 9700, 9900]\n",
      "첫번째 값: 3200\n",
      "마지막 값: 9900\n",
      "[9900, 9700, 9700, 9500, 5500, 4500, 4300, 4300, 4200, 4200, 3800, 3800, 3800, 3200, 3200]\n"
     ]
    }
   ],
   "source": [
    "# 전체 값을 정렬하기\n",
    "# 퀴즈 2 : sal_all 변수에 있는 값들을 오름차순으로 정렬하도록 아래 (   )안에 코드를 완성하세요\n",
    "sal_sort = (          )(sal_all)\n",
    "\n",
    "# 위 정답 코드\n",
    "sal_sort = sorted(sal_all)\n",
    "\n",
    "\n",
    "\n",
    "print(sal_sort)\n",
    "\n",
    "print('첫번째 값:', sal_sort[0])\n",
    "print('마지막 값:', sal_sort[-1])\n"
   ]
  },
  {
   "cell_type": "code",
   "execution_count": 4,
   "metadata": {},
   "outputs": [
    {
     "name": "stdout",
     "output_type": "stream",
     "text": [
      "평균값: 5573.333333333333\n",
      "numpy 평균값: 5573.333333333333\n"
     ]
    }
   ],
   "source": [
    "# 평균값 / 중앙값 계산하기\n",
    "mean_sal = sum(sal_all) / len(sal_all)\n",
    "print('평균값:' , mean_sal)\n",
    "\n",
    "#numpy 모듈 사용하기\n",
    "import numpy as np\n",
    "print('numpy 평균값:', np.mean(sal_all) )"
   ]
  },
  {
   "cell_type": "code",
   "execution_count": 13,
   "metadata": {},
   "outputs": [
    {
     "name": "stdout",
     "output_type": "stream",
     "text": [
      "[[1, 2, 3, 4, 5], [3, 5, 8, 11, 13]]\n",
      "          0         1\n",
      "0  1.000000  0.997054\n",
      "1  0.997054  1.000000\n"
     ]
    }
   ],
   "source": [
    "# 상관 관계 분석하기\n",
    "import pandas as pd\n",
    "\n",
    "lst = [[1,2,3,4,5],\n",
    "        [3,5,8,11,13]]\n",
    "\n",
    "df = pd.DataFrame(lst).T\n",
    "\n",
    "# 퀴즈 3 : 위 df 값의 상관 관계를 분석하도록 아래 (   ) 에 들어갈 적절한 코드를 완성하세요.\n",
    "corr = (            )(method = 'pearson')\n",
    "\n",
    "# 위 코드의 정답\n",
    "corr = df.corr(method = 'pearson')\n",
    "\n",
    "print(corr)"
   ]
  }
 ],
 "metadata": {
  "kernelspec": {
   "display_name": "Python 3",
   "language": "python",
   "name": "python3"
  },
  "language_info": {
   "codemirror_mode": {
    "name": "ipython",
    "version": 3
   },
   "file_extension": ".py",
   "mimetype": "text/x-python",
   "name": "python",
   "nbconvert_exporter": "python",
   "pygments_lexer": "ipython3",
   "version": "3.5.4"
  }
 },
 "nbformat": 4,
 "nbformat_minor": 2
}
