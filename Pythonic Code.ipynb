{
 "cells": [
  {
   "cell_type": "code",
   "execution_count": 2,
   "metadata": {},
   "outputs": [
    {
     "data": {
      "text/plain": [
       "[1, 2, 3, 4, 1, 3, 4, 5, 2, 3, 5, 6, 3, 4, 5, 7, 4, 5, 6, 7]"
      ]
     },
     "execution_count": 2,
     "metadata": {},
     "output_type": "execute_result"
    }
   ],
   "source": [
    "# List Comprehension\n",
    "\n",
    "[i+j for i in range(5) for j in range(5)]\n",
    "\n",
    "# a=[]\n",
    "# for i in range(5):\n",
    "#     for j in range(5):\n",
    "#         a.append(i+j)\n",
    "# 같은 결과\n",
    "\n",
    "[i+j for i in range(5) for j in range(5) if not i == j]\n",
    "# i 와 j 가 다를때만 더하기\n",
    "# if문 사용가능"
   ]
  },
  {
   "cell_type": "code",
   "execution_count": 6,
   "metadata": {},
   "outputs": [
    {
     "name": "stdout",
     "output_type": "stream",
     "text": [
      "0 a1 b1\n",
      "1 a2 b2\n",
      "2 a3 b3\n"
     ]
    }
   ],
   "source": [
    "# zip, enumerate\n",
    "\n",
    "[sum(x) for x in zip((1,2,3),(10,20,30),(100,200,300))]\n",
    "# 111,222,333\n",
    "\n",
    "alist=['a1','a2','a3']\n",
    "blist=['b1','b2','b3']\n",
    "\n",
    "for i,(a,b) in enumerate(zip(alist,blist)):\n",
    "    print(i,a,b)"
   ]
  },
  {
   "cell_type": "code",
   "execution_count": 15,
   "metadata": {},
   "outputs": [
    {
     "data": {
      "text/plain": [
       "[0, 2, 4, 6, 8]"
      ]
     },
     "execution_count": 15,
     "metadata": {},
     "output_type": "execute_result"
    }
   ],
   "source": [
    "# lambda,map,reduce\n",
    "\n",
    "list(map(lambda x,y:x+y ,range(5),range(5)))\n",
    "#[0,2,4,6,8]\n",
    "\n",
    "from functools import reduce\n",
    "reduce(lambda x,y:x*y , range(1,100))\n",
    "#factorial"
   ]
  },
  {
   "cell_type": "code",
   "execution_count": 27,
   "metadata": {},
   "outputs": [
    {
     "name": "stdout",
     "output_type": "stream",
     "text": [
      "1 (2, 3, 4, 5, 6)\n",
      "<class 'tuple'>\n",
      "1 {'b': 2, 'c': 3, 'd': 4, 'e': 5, 'f': 6}\n",
      "<class 'dict'>\n",
      "1 ((2, 3, 4, 5, 6),)\n",
      "<class 'tuple'>\n",
      "1 2 3 4 5 6\n",
      "<class 'tuple'>\n",
      "1 (2, 3, 4, 5, 6)\n",
      "<class 'tuple'>\n",
      "1 (2, 3, 4, 5, 6)\n",
      "<class 'tuple'>\n",
      "[1, 2] [3, 4] [5, 6]\n",
      "10 1 2 3\n",
      "(1, 3, 5)\n",
      "(2, 4, 6)\n"
     ]
    }
   ],
   "source": [
    "# Asterisk\n",
    "# * 가변인자\n",
    "# 여러개 값을 한번에 받을 수 있다\n",
    "\n",
    "def asterisk_test(a,*args):\n",
    "    print(a,args)\n",
    "    print(type(args))\n",
    "    \n",
    "asterisk_test(1,2,3,4,5,6)\n",
    "# 튜플의 형태로 들어간다?\n",
    "\n",
    "def asterisk_test2(a, **kargs):\n",
    "    print(a, kargs)\n",
    "    print(type(kargs))\n",
    "    \n",
    "asterisk_test2(1,b=2,c=3,d=4,e=5,f=6)\n",
    "# dict 타입\n",
    "\n",
    "\n",
    "# Asterist-unpacking a container\n",
    "# tuple, dict 등 자료형에 들어가 있는 값을 unpacking\n",
    "# 함수의 입력값, zip 등에 유용하게 사용 가능\n",
    "\n",
    "asterisk_test(1,(2,3,4,5,6))\n",
    "# 1 ((2, 3, 4, 5, 6),)\n",
    "# <class 'tuple'>\n",
    "\n",
    "def asterisk_test3(a, args):\n",
    "    print(a,*args)\n",
    "    print(type(args))\n",
    "\n",
    "\n",
    "asterisk_test3(1,(2,3,4,5,6))\n",
    "# 1 2 3 4 5 6\n",
    "\n",
    "asterisk_test(1,*(2,3,4,5,6))\n",
    "asterisk_test(1,2,3,4,5,6)\n",
    "# 1 (2, 3, 4, 5, 6)\n",
    "\n",
    "data=[[1,2],[3,4],[5,6]]\n",
    "print(*data)\n",
    "\n",
    "def asterisk_test4(a,b,c,d):\n",
    "    print(a,b,c,d)\n",
    "    \n",
    "data = {'b':1, 'c':2, 'd':3}\n",
    "\n",
    "asterisk_test4(10,**data)\n",
    "\n",
    "for i in zip(*([1,2],[3,4],[5,6])):\n",
    "    print(i)"
   ]
  },
  {
   "cell_type": "markdown",
   "metadata": {},
   "source": []
  }
 ],
 "metadata": {
  "kernelspec": {
   "display_name": "Python 3.9.7 ('base')",
   "language": "python",
   "name": "python3"
  },
  "language_info": {
   "codemirror_mode": {
    "name": "ipython",
    "version": 3
   },
   "file_extension": ".py",
   "mimetype": "text/x-python",
   "name": "python",
   "nbconvert_exporter": "python",
   "pygments_lexer": "ipython3",
   "version": "3.9.7"
  },
  "orig_nbformat": 4,
  "vscode": {
   "interpreter": {
    "hash": "5179d32cf6ec497baf3f8a3ef987cc77c5d2dc691fdde20a56316522f61a7323"
   }
  }
 },
 "nbformat": 4,
 "nbformat_minor": 2
}
